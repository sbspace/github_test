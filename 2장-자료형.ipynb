{
 "cells": [
  {
   "cell_type": "code",
   "execution_count": 1,
   "metadata": {},
   "outputs": [
    {
     "name": "stdout",
     "output_type": "stream",
     "text": [
      "I ate 3 apples and five bananas\n",
      "He is 32 years old and 176.5 cm tall\n"
     ]
    }
   ],
   "source": [
    "# 문자열 포매팅 : 문자열 안에 어떠한 값을 삽입할 때 \n",
    "# %s 는 문자,실수,정수 상관없이 다 가능하다 (모두 문자처리해버림)\n",
    "\n",
    "print(\"I ate %d apples and %s bananas\" % (3,\"five\"))\n",
    "print(\"%s is %s years old and %s cm tall\" % ('He', 32, 176.5))"
   ]
  },
  {
   "cell_type": "code",
   "execution_count": 3,
   "metadata": {},
   "outputs": [
    {
     "name": "stdout",
     "output_type": "stream",
     "text": [
      "hi        jane\n",
      "        hijane\n",
      "hi        \n",
      "        hi\n",
      "    hi    \n",
      "hi!!!!!!!!\n",
      "^^^^^^^^hi\n",
      "----hi----\n"
     ]
    }
   ],
   "source": [
    "# 포맷코드 활용법 : 정렬과 공백 활용\n",
    "print(\"%-10sjane\" % 'hi')  # 10비트 공간에서 왼쪽 정렬로 hi 대입하고 jane붙임 ( - 안하면 오른쪽 정렬)\n",
    "print(\"%10sjane\" % 'hi')  # 10비트 공간에서 왼쪽 정렬로 hi 대입하고 jane붙임 ( - 안하면 오른쪽 정렬)\n",
    "print(\"{0:<10}\".format('hi'), \"{0:>10}\".format('hi'), \"{0:^10}\".format('hi'), sep='\\n')  # 왼/오/가운데 정렬\n",
    "print(\"{0:!<10}\".format('hi'), \"{0:^>10}\".format('hi'), \"{0:-^10}\".format('hi'), sep='\\n')  # 정렬문자 앞에 문자로 공백 채우기 "
   ]
  },
  {
   "cell_type": "code",
   "execution_count": 6,
   "metadata": {},
   "outputs": [
    {
     "name": "stdout",
     "output_type": "stream",
     "text": [
      "3.4214\n",
      "    3.4214\n"
     ]
    }
   ],
   "source": [
    "# 소수점 표현 \n",
    "print(\"%0.4f\" %3.4213579)  # 점(.) 뒤에는 소수점 표현 자리수, . 앞에는 전체 길이 제한 (0은 제한없음)\n",
    "print(\"%10.4f\" %3.4213579)"
   ]
  },
  {
   "cell_type": "code",
   "execution_count": 15,
   "metadata": {},
   "outputs": [
    {
     "name": "stdout",
     "output_type": "stream",
     "text": [
      "I ate 3 apples and Five bananas\n",
      "He is 175.31cm tall\n",
      "Peter ate 8 apples and Jack is 151.43cm tall\n"
     ]
    }
   ],
   "source": [
    "# format 함수\n",
    "print(\"I ate {0} apples and {1} bananas\".format(3,\"Five\"))\n",
    "print(\"He is {0:.4f}cm tall\".format(175.3123124125))\n",
    "\n",
    "# f문자열 포매팅\n",
    "name = 'Peter'\n",
    "num = 3\n",
    "dict = {\"name\":\"Jack\", \"num\":151.43251}\n",
    "print(f\"{name} ate {num+5} apples and {dict['name']} is {dict['num']:0.2f}cm tall\")"
   ]
  },
  {
   "cell_type": "code",
   "execution_count": 24,
   "metadata": {},
   "outputs": [
    {
     "name": "stdout",
     "output_type": "stream",
     "text": [
      "4 1 -1 1\n",
      "Java is my hobbbby\n",
      "['Python', 'is', 'my', 'hobbbby']\n",
      "a,b,c,d\n",
      "양쪽 공백없에기\n"
     ]
    }
   ],
   "source": [
    "# 문자열 내장함수 : 문자열 뒤에 .을 붙여서 사용가능한 내장함수들 \n",
    "a = \"Python is my hobbbby\"\n",
    "print(a.count('b'), a.find('y'), a.find('x'), a.index('y'))\n",
    "print(a.replace(\"Python\", \"Java\"))\n",
    "print(a.split()) # split(:) 와 같이도 사용가능 \n",
    "print(\",\".join(\"abcd\"))\n",
    "print(\"   양쪽 공백없에기    \".strip())"
   ]
  },
  {
   "cell_type": "code",
   "execution_count": 25,
   "metadata": {},
   "outputs": [
    {
     "name": "stdout",
     "output_type": "stream",
     "text": [
      "dict_keys(['name', 'phone', 'age']) ['name', 'phone', 'age']\n",
      "dict_values(['Song', '010-2555-3434', 32])\n",
      "dict_items([('name', 'Song'), ('phone', '010-2555-3434'), ('age', 32)])\n",
      "name : Song\n",
      "phone : 010-2555-3434\n",
      "age : 32\n"
     ]
    }
   ],
   "source": [
    "# 딕셔너리 \n",
    "dict = {'name':'Song', 'phone':'010-2555-3434', 'age':32}\n",
    "print(dict.keys(), list(dict.keys()))   # key만 반환\n",
    "print(dict.values())\n",
    "print(dict.items())\n",
    "\n",
    "for i in dict.items():\n",
    "    print(i[0],\":\",i[1])"
   ]
  },
  {
   "cell_type": "code",
   "execution_count": 26,
   "metadata": {},
   "outputs": [
    {
     "name": "stdout",
     "output_type": "stream",
     "text": [
      "1533387301248 1533387301248 1533379459200\n",
      "[1, 2, 3] [1, 2, 3] [1, 2, 3]\n",
      "[1, 2, 3, 4, 5] 1533387301248 [1, 2, 3, 4, 5]\n",
      "pythonlife\n"
     ]
    }
   ],
   "source": [
    "# 변수에 대해서 \n",
    "a = [1,2,3]   # 변수를 정의하면 [1,2,3] 이라는 데이터가 메모리에 생성되고, a라는 변수는 생성된 메모리의 주소를 가리키게됨 \n",
    "b = a   # 변수를 = 으로 복사하면 같은 메모리 주소를 가리키는 변수가 복사되는것. 주소가 새로 생기지는 않음 \n",
    "c = a.copy()  # c 는 a 와 다른 주소에 값만 복사함 \n",
    "print(id(a), id(b), id(c))\n",
    "print(a,b,c,)\n",
    "\n",
    "a.extend([4,5])\n",
    "print(a, id(a), b)  # a를 바꾸면 b도 바뀜. b는 a와 같은 메모리 주소를 가르키기때문. 같이 바뀌는게 싫으면 copy로 복사\n",
    "\n",
    "[a,b] = ['python', 'life']\n",
    "\n",
    "print(a+b)"
   ]
  }
 ],
 "metadata": {
  "kernelspec": {
   "display_name": "sbs",
   "language": "python",
   "name": "python3"
  },
  "language_info": {
   "codemirror_mode": {
    "name": "ipython",
    "version": 3
   },
   "file_extension": ".py",
   "mimetype": "text/x-python",
   "name": "python",
   "nbconvert_exporter": "python",
   "pygments_lexer": "ipython3",
   "version": "3.10.9"
  }
 },
 "nbformat": 4,
 "nbformat_minor": 2
}
