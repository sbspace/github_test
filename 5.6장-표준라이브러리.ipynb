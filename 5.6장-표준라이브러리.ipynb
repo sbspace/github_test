{
 "cells": [
  {
   "cell_type": "markdown",
   "metadata": {},
   "source": [
    "표준 라이브러리란, 파이썬 설치 시 기본으로 깔려있는 라이브러리 "
   ]
  },
  {
   "cell_type": "code",
   "execution_count": 1,
   "metadata": {},
   "outputs": [
    {
     "name": "stdout",
     "output_type": "stream",
     "text": [
      "2024-05-29\t2021-08-17\t1016 days, 0:00:00\n",
      "<class 'datetime.date'> <class 'datetime.timedelta'>\n",
      "1 2\n"
     ]
    }
   ],
   "source": [
    "# datetime.date 는 연,월,일로 날짜를 표현할 떄 사용\n",
    "\n",
    "import datetime\n",
    "day1 = datetime.date(2021, 8, 17)\n",
    "day2 = datetime.date(2024, 5, 29)\n",
    "print(day2, day1, day2-day1, sep='\\t')\n",
    "print(type(day2), type(day2-day1))\n",
    "print(day1.weekday(), day1.isoweekday())  # iso는 1부터 월요일"
   ]
  },
  {
   "cell_type": "code",
   "execution_count": 2,
   "metadata": {},
   "outputs": [
    {
     "name": "stdout",
     "output_type": "stream",
     "text": [
      "2024-06-09\t2024-06-09 21:46:23.867570\n",
      "<class 'datetime.date'> <class 'datetime.datetime'>\n",
      "6 9 <class 'int'>\n",
      "21 46 <class 'str'>\n",
      "2024년---06월---09일 /// 21::시::46::분::23초\n"
     ]
    }
   ],
   "source": [
    "# 오늘 날짜, 현재 시간 출력\n",
    "\n",
    "today = datetime.date.today()\n",
    "now = datetime.datetime.now()\n",
    "print(today, now, sep='\\t')\n",
    "print(type(today), type(now))\n",
    "\n",
    "# 오늘날짜에서 월과 일 뽑기 \n",
    "print(today.month, today.day, type(today.month))\n",
    "\n",
    "# 현재시간에서 시간과 분 뽑기\n",
    "print(now.strftime(\"%H\"), now.strftime(\"%M\"), type(now.strftime(\"%H\")))  # string format time\n",
    "print(now.strftime(\"%Y년---%m월---%d일 /// %H::시::%M::분::%S초\"))"
   ]
  },
  {
   "cell_type": "code",
   "execution_count": 3,
   "metadata": {},
   "outputs": [
    {
     "name": "stdout",
     "output_type": "stream",
     "text": [
      "1717937183.887764\n",
      "time.struct_time(tm_year=2024, tm_mon=6, tm_mday=9, tm_hour=21, tm_min=46, tm_sec=23, tm_wday=6, tm_yday=161, tm_isdst=0)\n",
      "Sun Jun  9 21:46:23 2024\n",
      "Sun Jun  9 21:46:23 2024\n",
      "06/09/24 -- 21:46:23\n"
     ]
    },
    {
     "data": {
      "text/plain": [
       "' localtime, asctime, strftime 은 인수없이 사용하면 현재시간 기준으로해줌'"
      ]
     },
     "execution_count": 3,
     "metadata": {},
     "output_type": "execute_result"
    }
   ],
   "source": [
    "# time 모듈의 여러가지 함수 \n",
    "import time \n",
    "\n",
    "print(time.time())    #현재 시간을 실수로 반환  \n",
    "print(time.localtime(time.time()))    # 실수의 현재시간을 구조적 형태로 변경\n",
    "print(time.asctime(time.localtime(time.time())))   #localtime 을 알아보기 쉽게 변경 \n",
    "print(time.ctime())  # ctime 은 현재시간에 대해서만 작동 time.time() 을 알아보기 쉽게 변경하는 기능 \n",
    "print(time.strftime('%x -- %X',time.localtime(time.time())))  # 출력하고자하는 포맷에 맞추어 문자열로 표현해줌\n",
    "\n",
    "''' localtime, asctime, strftime 은 인수없이 사용하면 현재시간 기준으로해줌'''"
   ]
  },
  {
   "cell_type": "code",
   "execution_count": 4,
   "metadata": {},
   "outputs": [
    {
     "name": "stdout",
     "output_type": "stream",
     "text": [
      "0\n",
      "1\n",
      "2\n",
      "3\n",
      "4\n"
     ]
    }
   ],
   "source": [
    "for i in range(5):\n",
    "    print(i)\n",
    "    time.sleep(1)"
   ]
  },
  {
   "cell_type": "code",
   "execution_count": 5,
   "metadata": {},
   "outputs": [
    {
     "name": "stdout",
     "output_type": "stream",
     "text": [
      "20 240\n"
     ]
    }
   ],
   "source": [
    "# 최대공약수와 최소공배수 \n",
    "import math\n",
    "print(math.gcd(60,80,100), math.lcm(16,20,15))"
   ]
  },
  {
   "cell_type": "code",
   "execution_count": 6,
   "metadata": {},
   "outputs": [
    {
     "name": "stdout",
     "output_type": "stream",
     "text": [
      "0.5511713781567328 52\n"
     ]
    }
   ],
   "source": [
    "# random 모듈\n",
    "\n",
    "import random\n",
    "print(random.random(), random.randint(1,55))"
   ]
  },
  {
   "cell_type": "code",
   "execution_count": 7,
   "metadata": {},
   "outputs": [
    {
     "name": "stdout",
     "output_type": "stream",
     "text": [
      "5\n",
      "1\n",
      "2\n",
      "3\n",
      "4\n"
     ]
    }
   ],
   "source": [
    "data = [1,2,3,4,5]\n",
    "\n",
    "def random_pop(data):\n",
    "    number = random.randint(0,len(data)-1)\n",
    "    return data.pop(number)\n",
    "\n",
    "while data:\n",
    "    print(random_pop(data))\n",
    "\n"
   ]
  },
  {
   "cell_type": "code",
   "execution_count": 8,
   "metadata": {},
   "outputs": [
    {
     "name": "stdout",
     "output_type": "stream",
     "text": [
      "2\n",
      "1\n",
      "5\n",
      "4\n",
      "3\n"
     ]
    }
   ],
   "source": [
    "data = [1,2,3,4,5]\n",
    "\n",
    "def random_pop_rev(data):\n",
    "    number = random.choice(data)\n",
    "    data.remove(number)\n",
    "    return number\n",
    "\n",
    "while data:\n",
    "    print(random_pop_rev(data))"
   ]
  },
  {
   "cell_type": "code",
   "execution_count": 9,
   "metadata": {},
   "outputs": [
    {
     "name": "stdout",
     "output_type": "stream",
     "text": [
      "[('a', 'A'), ('b', 'B'), ('c', 'C'), ('X', 'D'), ('X', 'E')]\n"
     ]
    }
   ],
   "source": [
    "# itertools.zip_logest(*iterables, fillvalue=None) : zip 함수와 동일한데 서로다른 길이의 iterable 에도 적용가능함 \n",
    "\n",
    "import itertools\n",
    "\n",
    "l1 = ['a','b','c']\n",
    "l2 = ['A','B','C','D','E']\n",
    "\n",
    "print(list(itertools.zip_longest(l1,l2,fillvalue='X')))"
   ]
  },
  {
   "cell_type": "code",
   "execution_count": 10,
   "metadata": {},
   "outputs": [
    {
     "name": "stdout",
     "output_type": "stream",
     "text": [
      "[(1, 2), (1, 3), (2, 1), (2, 3), (3, 1), (3, 2)]\n",
      "[(1, 2), (1, 3), (2, 3)]\n"
     ]
    },
    {
     "data": {
      "text/plain": [
       "45"
      ]
     },
     "execution_count": 10,
     "metadata": {},
     "output_type": "execute_result"
    }
   ],
   "source": [
    "# itertools.permutations(iterable,r) : 순열(p)을 구해주는 함수 \n",
    "# itertools.combination(iterable,r) : 조합(c)을 구해주는 함수 \n",
    "\n",
    "import itertools\n",
    "print(list(itertools.permutations([1,2,3],2)))\n",
    "print(list(itertools.combinations([1,2,3],2)))\n",
    "\n",
    "\n",
    "it = itertools.combinations([i for i in range(10)],2)\n",
    "\n",
    "'''for comb in it:\n",
    "    print(comb)'''\n",
    "\n",
    "len(list(it))"
   ]
  },
  {
   "cell_type": "code",
   "execution_count": 11,
   "metadata": {},
   "outputs": [
    {
     "name": "stdout",
     "output_type": "stream",
     "text": [
      "sum =  15  max =  5\n"
     ]
    }
   ],
   "source": [
    "# functools.reduce(function, iterable) : function 을 iterable 의 요소에 왼쪽에서 오른쪽으로 차례대로 누적하여 적용하는것 \n",
    "\n",
    "import functools\n",
    "\n",
    "l1 = [3,2,1,5,4]\n",
    "sum = functools.reduce(lambda x,y : x + y, l1)\n",
    "max = functools.reduce(lambda x,y : x if x>y else y, l1)\n",
    "print('sum = ', sum, ' max = ', max) "
   ]
  },
  {
   "cell_type": "code",
   "execution_count": 12,
   "metadata": {},
   "outputs": [
    {
     "name": "stdout",
     "output_type": "stream",
     "text": [
      "[('koo', 28, 'C'), ('song', 32, 'B'), ('baek', 55, 'A')]\n",
      "[{'name': 'koo', 'age': 28}, {'name': 'song', 'age': 32}, {'name': 'baek', 'age': 55}]\n"
     ]
    }
   ],
   "source": [
    "# operator.itemgetter: 주로 sorted 와 같은 함수의 key 매개변수에 적용하여 다양한 기준으로 정렬할 수 있게 도와줌 \n",
    "\n",
    "from operator import itemgetter\n",
    "\n",
    "students = [('song',32,'B'), ('baek',55,'A'), ('koo',28,'C')]\n",
    "result = sorted(students, key=itemgetter(2), reverse=True)\n",
    "print(result)\n",
    "\n",
    "studentsdict = [{'name':'song', 'age':32}, {'name':'baek', 'age':55}, {'name':'koo', 'age':28}]\n",
    "result = sorted(studentsdict, key=itemgetter('age'))\n",
    "print(result)"
   ]
  },
  {
   "cell_type": "code",
   "execution_count": 13,
   "metadata": {},
   "outputs": [
    {
     "name": "stdout",
     "output_type": "stream",
     "text": [
      "['G:/내 드라이브/파이썬공부\\\\점프투.txt', 'G:/내 드라이브/파이썬공부\\\\myargv.py', 'G:/내 드라이브/파이썬공부\\\\4.3장-프로그램입출력.py', 'G:/내 드라이브/파이썬공부\\\\새파일2.txt', 'G:/내 드라이브/파이썬공부\\\\새파일.txt', 'G:/내 드라이브/파이썬공부\\\\__pycache__', 'G:/내 드라이브/파이썬공부\\\\mod1.py', 'G:/내 드라이브/파이썬공부\\\\mod2.py', 'G:/내 드라이브/파이썬공부\\\\모듈모음', 'G:/내 드라이브/파이썬공부\\\\game', 'G:/내 드라이브/파이썬공부\\\\5.6장-표준라이브러리.ipynb', 'G:/내 드라이브/파이썬공부\\\\5.5장-내장함수.ipynb', 'G:/내 드라이브/파이썬공부\\\\test.txt', 'G:/내 드라이브/파이썬공부\\\\5.7장-외부라이브러리.ipynb', 'G:/내 드라이브/파이썬공부\\\\wikidocs_12.html', 'G:/내 드라이브/파이썬공부\\\\6.1장-파이썬프로그래밍.ipynb', 'G:/내 드라이브/파이썬공부\\\\memo.py', 'G:/내 드라이브/파이썬공부\\\\memo.txt', 'G:/내 드라이브/파이썬공부\\\\a.txt', 'G:/내 드라이브/파이썬공부\\\\tabto4.py', 'G:/내 드라이브/파이썬공부\\\\b.txt', 'G:/내 드라이브/파이썬공부\\\\sub_dir_search.py', 'G:/내 드라이브/파이썬공부\\\\7.1장-유니코드.ipynb', 'G:/내 드라이브/파이썬공부\\\\7.2장-클로저와데코레이터.ipynb', 'G:/내 드라이브/파이썬공부\\\\7.3장-이터레이터와 제너레이터.ipynb', 'G:/내 드라이브/파이썬공부\\\\7.4장-타입어노테이션.ipynb', 'G:/내 드라이브/파이썬공부\\\\8장-정규표현식.ipynb', 'G:/내 드라이브/파이썬공부\\\\5.4장-예외(오류)처리.ipynb', 'G:/내 드라이브/파이썬공부\\\\5.3장-패키지.ipynb', 'G:/내 드라이브/파이썬공부\\\\5.2장-모듈.ipynb', 'G:/내 드라이브/파이썬공부\\\\5.1장-클래스.ipynb', 'G:/내 드라이브/파이썬공부\\\\4.3장-프로그램입출력.ipynb', 'G:/내 드라이브/파이썬공부\\\\4.2장-파일읽고쓰기.ipynb', 'G:/내 드라이브/파이썬공부\\\\4.1장-사용자함수.ipynb', 'G:/내 드라이브/파이썬공부\\\\3장-제어문.ipynb', 'G:/내 드라이브/파이썬공부\\\\2장-자료형.ipynb']\n",
      "['G:/내 드라이브/파이썬공부\\\\5.6장-표준라이브러리.ipynb', 'G:/내 드라이브/파이썬공부\\\\5.5장-내장함수.ipynb', 'G:/내 드라이브/파이썬공부\\\\5.7장-외부라이브러리.ipynb', 'G:/내 드라이브/파이썬공부\\\\5.4장-예외(오류)처리.ipynb', 'G:/내 드라이브/파이썬공부\\\\5.3장-패키지.ipynb', 'G:/내 드라이브/파이썬공부\\\\5.2장-모듈.ipynb', 'G:/내 드라이브/파이썬공부\\\\5.1장-클래스.ipynb']\n",
      "['G:/내 드라이브/파이썬공부\\\\myargv.py', 'G:/내 드라이브/파이썬공부\\\\4.3장-프로그램입출력.py', 'G:/내 드라이브/파이썬공부\\\\mod1.py', 'G:/내 드라이브/파이썬공부\\\\mod2.py', 'G:/내 드라이브/파이썬공부\\\\memo.py', 'G:/내 드라이브/파이썬공부\\\\tabto4.py', 'G:/내 드라이브/파이썬공부\\\\sub_dir_search.py']\n"
     ]
    }
   ],
   "source": [
    "# glob : 디렉터리에 있는 모든 파일을 읽어야할때 \n",
    "\n",
    "import glob\n",
    "print(glob.glob(\"G:/내 드라이브/파이썬공부/*\"))\n",
    "print(glob.glob(\"G:/내 드라이브/파이썬공부/5*\"))\n",
    "# G:/내 드라이브/파이썬공부/    라는 경로의 디렉터리 안에 5로 시작하는 모든 파일 명\n",
    "print(glob.glob(\"G:/내 드라이브/파이썬공부/*.py\"))"
   ]
  },
  {
   "cell_type": "code",
   "execution_count": 14,
   "metadata": {},
   "outputs": [
    {
     "name": "stdout",
     "output_type": "stream",
     "text": [
      "{1: 'python', 2: 'you need'} {3: 'java', 4: 'you dont need'}\n"
     ]
    }
   ],
   "source": [
    "# pickle : 객체의 형태를 그대로 유지하면서 파일에 저장하고, 불러오게 할 수 있는 모듈\n",
    "# pickle 모듈의 dump 와 load 를 이용하면 어떠한 자료형이든 저장하고 불러올 수 있다. \n",
    "\n",
    "import pickle \n",
    "\n",
    "f = open(\"test.txt\", 'wb')\n",
    "data = {1:'python', 2:'you need'}\n",
    "data2 = {3:'java', 4:'you dont need'}\n",
    "\n",
    "pickle.dump(data, f)\n",
    "pickle.dump(data2, f)\n",
    "f.close()\n",
    "\n",
    "f = open(\"test.txt\", 'rb')\n",
    "d = pickle.load(f)   # pickle.load()는 객체를 하나씩 불러온다. 파일에서 첫 번째 객체를 불러온 다음, 파일 포인터가 첫 번째 객체 끝에 위치합니다. \n",
    "c = pickle.load(f)\n",
    "print(d,c)"
   ]
  },
  {
   "cell_type": "code",
   "execution_count": 15,
   "metadata": {},
   "outputs": [
    {
     "name": "stdout",
     "output_type": "stream",
     "text": [
      "environ({'ALLUSERSPROFILE': 'C:\\\\ProgramData', 'APPDATA': 'C:\\\\Users\\\\bmseo\\\\AppData\\\\Roaming', 'CHROME_CRASHPAD_PIPE_NAME': '\\\\\\\\.\\\\pipe\\\\crashpad_23024_WNHFILMSPACVGWYV', 'COMMONPROGRAMFILES': 'C:\\\\Program Files\\\\Common Files', 'COMMONPROGRAMFILES(X86)': 'C:\\\\Program Files (x86)\\\\Common Files', 'COMMONPROGRAMW6432': 'C:\\\\Program Files\\\\Common Files', 'COMPUTERNAME': 'LAPTOP-1HLMSM59', 'COMSPEC': 'C:\\\\Windows\\\\system32\\\\cmd.exe', 'CONDA_DEFAULT_ENV': 'base', 'CONDA_EXE': 'C:\\\\Users\\\\bmseo\\\\anaconda3\\\\Scripts\\\\conda.exe', 'CONDA_EXES': '\"C:\\\\Users\\\\bmseo\\\\anaconda3\\\\condabin\\\\..\\\\Scripts\\\\conda.exe\"  ', 'CONDA_PREFIX': 'C:\\\\Users\\\\bmseo\\\\anaconda3', 'CONDA_PROMPT_MODIFIER': '(base) ', 'CONDA_PYTHON_EXE': 'C:\\\\Users\\\\bmseo\\\\anaconda3\\\\python.exe', 'CONDA_ROOT': 'C:\\\\Users\\\\bmseo\\\\anaconda3', 'CONDA_SHLVL': '1', 'DRIVERDATA': 'C:\\\\Windows\\\\System32\\\\Drivers\\\\DriverData', 'ELECTRON_RUN_AS_NODE': '1', 'HOMEDRIVE': 'C:', 'HOMEPATH': '\\\\Users\\\\bmseo', 'JPY_INTERRUPT_EVENT': '2564', 'LOCALAPPDATA': 'C:\\\\Users\\\\bmseo\\\\AppData\\\\Local', 'LOGONSERVER': '\\\\\\\\LAPTOP-1HLMSM59', 'NUMBER_OF_PROCESSORS': '12', 'ONEDRIVE': 'C:\\\\Users\\\\bmseo\\\\OneDrive', 'ONEDRIVECONSUMER': 'C:\\\\Users\\\\bmseo\\\\OneDrive', 'ORIGINAL_XDG_CURRENT_DESKTOP': 'undefined', 'OS': 'Windows_NT', 'PATH': 'c:\\\\Users\\\\bmseo\\\\anaconda3;C:\\\\Users\\\\bmseo\\\\anaconda3;C:\\\\Users\\\\bmseo\\\\anaconda3\\\\Library\\\\mingw-w64\\\\bin;C:\\\\Users\\\\bmseo\\\\anaconda3\\\\Library\\\\usr\\\\bin;C:\\\\Users\\\\bmseo\\\\anaconda3\\\\Library\\\\bin;C:\\\\Users\\\\bmseo\\\\anaconda3\\\\Scripts;C:\\\\Users\\\\bmseo\\\\anaconda3\\\\bin;C:\\\\Users\\\\bmseo\\\\anaconda3\\\\condabin;C:\\\\Windows\\\\system32;C:\\\\Windows;C:\\\\Windows\\\\System32\\\\Wbem;C:\\\\Windows\\\\System32\\\\WindowsPowerShell\\\\v1.0;C:\\\\Windows\\\\System32\\\\OpenSSH;C:\\\\Program Files\\\\Git\\\\cmd;C:\\\\Users\\\\bmseo\\\\anaconda3;C:\\\\Users\\\\bmseo\\\\anaconda3\\\\Library\\\\mingw-w64\\\\bin;C:\\\\Users\\\\bmseo\\\\anaconda3\\\\Library\\\\usr\\\\bin;C:\\\\Users\\\\bmseo\\\\anaconda3\\\\Library\\\\bin;C:\\\\Users\\\\bmseo\\\\anaconda3\\\\Scripts;C:\\\\Users\\\\bmseo\\\\AppData\\\\Local\\\\Microsoft\\\\WindowsApps;C:\\\\Users\\\\bmseo\\\\AppData\\\\Local\\\\Programs\\\\Microsoft VS Code\\\\bin;C:\\\\Users\\\\bmseo\\\\AppData\\\\Local\\\\GitHubDesktop\\\\bin', 'PATHEXT': '.COM;.EXE;.BAT;.CMD;.VBS;.VBE;.JS;.JSE;.WSF;.WSH;.MSC', 'PROCESSOR_ARCHITECTURE': 'AMD64', 'PROCESSOR_IDENTIFIER': 'Intel64 Family 6 Model 141 Stepping 1, GenuineIntel', 'PROCESSOR_LEVEL': '6', 'PROCESSOR_REVISION': '8d01', 'PROGRAMDATA': 'C:\\\\ProgramData', 'PROGRAMFILES': 'C:\\\\Program Files', 'PROGRAMFILES(X86)': 'C:\\\\Program Files (x86)', 'PROGRAMW6432': 'C:\\\\Program Files', 'PROMPT': '(base) $P$G', 'PSMODULEPATH': 'C:\\\\Program Files\\\\WindowsPowerShell\\\\Modules;C:\\\\Windows\\\\system32\\\\WindowsPowerShell\\\\v1.0\\\\Modules', 'PUBLIC': 'C:\\\\Users\\\\Public', 'PYDEVD_IPYTHON_COMPATIBLE_DEBUGGING': '1', 'PYTHONIOENCODING': 'utf-8', 'PYTHONUNBUFFERED': '1', 'PYTHONUTF8': '1', 'PYTHON_FROZEN_MODULES': 'on', 'SESSIONNAME': 'Console', 'SYSTEMDRIVE': 'C:', 'SYSTEMROOT': 'C:\\\\Windows', 'TEMP': 'C:\\\\Users\\\\bmseo\\\\AppData\\\\Local\\\\Temp', 'TMP': 'C:\\\\Users\\\\bmseo\\\\AppData\\\\Local\\\\Temp', 'USERDOMAIN': 'LAPTOP-1HLMSM59', 'USERDOMAIN_ROAMINGPROFILE': 'LAPTOP-1HLMSM59', 'USERNAME': 'bmseo', 'USERPROFILE': 'C:\\\\Users\\\\bmseo', 'VSCODE_AMD_ENTRYPOINT': 'vs/workbench/api/node/extensionHostProcess', 'VSCODE_CODE_CACHE_PATH': 'C:\\\\Users\\\\bmseo\\\\AppData\\\\Roaming\\\\Code\\\\CachedData\\\\dc96b837cf6bb4af9cd736aa3af08cf8279f7685', 'VSCODE_CRASH_REPORTER_PROCESS_TYPE': 'extensionHost', 'VSCODE_CWD': 'C:\\\\Users\\\\bmseo\\\\AppData\\\\Local\\\\Programs\\\\Microsoft VS Code', 'VSCODE_HANDLES_UNCAUGHT_ERRORS': 'true', 'VSCODE_IPC_HOOK': '\\\\\\\\.\\\\pipe\\\\4a14b2e9-1.89.1-main-sock', 'VSCODE_L10N_BUNDLE_LOCATION': '', 'VSCODE_NLS_CONFIG': '{\"locale\":\"en-us\",\"osLocale\":\"ko\",\"availableLanguages\":{},\"_languagePackSupport\":true}', 'VSCODE_PID': '23024', 'WINDIR': 'C:\\\\Windows', 'ZES_ENABLE_SYSMAN': '1', '_CONDA_OLD_CHCP': '949', 'PYDEVD_USE_FRAME_EVAL': 'NO', 'TERM': 'xterm-color', 'CLICOLOR': '1', 'FORCE_COLOR': '1', 'CLICOLOR_FORCE': '1', 'PAGER': 'cat', 'GIT_PAGER': 'cat', 'MPLBACKEND': 'module://matplotlib_inline.backend_inline'})\n",
      "c:\\Users\\bmseo\\anaconda3;C:\\Users\\bmseo\\anaconda3;C:\\Users\\bmseo\\anaconda3\\Library\\mingw-w64\\bin;C:\\Users\\bmseo\\anaconda3\\Library\\usr\\bin;C:\\Users\\bmseo\\anaconda3\\Library\\bin;C:\\Users\\bmseo\\anaconda3\\Scripts;C:\\Users\\bmseo\\anaconda3\\bin;C:\\Users\\bmseo\\anaconda3\\condabin;C:\\Windows\\system32;C:\\Windows;C:\\Windows\\System32\\Wbem;C:\\Windows\\System32\\WindowsPowerShell\\v1.0;C:\\Windows\\System32\\OpenSSH;C:\\Program Files\\Git\\cmd;C:\\Users\\bmseo\\anaconda3;C:\\Users\\bmseo\\anaconda3\\Library\\mingw-w64\\bin;C:\\Users\\bmseo\\anaconda3\\Library\\usr\\bin;C:\\Users\\bmseo\\anaconda3\\Library\\bin;C:\\Users\\bmseo\\anaconda3\\Scripts;C:\\Users\\bmseo\\AppData\\Local\\Microsoft\\WindowsApps;C:\\Users\\bmseo\\AppData\\Local\\Programs\\Microsoft VS Code\\bin;C:\\Users\\bmseo\\AppData\\Local\\GitHubDesktop\\bin\n"
     ]
    }
   ],
   "source": [
    "# os : os모듈은 환경 변수, 디렉터리, 파일 등의 OS 자원을 제어할 수 있도록 하는 모듈이다. \n",
    "\n",
    "import os\n",
    "'''\n",
    "환경변수란? 프로세스(프로그램)가 컴퓨터에서 동작하는 방식에 영향을 미치는, 동적인 값들의 모임\n",
    "PATH 환경변수란? \"프로그램을 찾는 디폴트 경로\" -> 여기에 특정 경로를 추가해주면 어떤 디렉토리(경로)에서 실행하던 실행이됨 \n",
    "'''\n",
    "print(os.environ)   # 현재 시스템의 환경변수값을 딕셔너리 형태로 반환 \n",
    "print(os.environ['PATH'])  # PATH 환경변수 반환"
   ]
  },
  {
   "cell_type": "code",
   "execution_count": 16,
   "metadata": {},
   "outputs": [
    {
     "name": "stdout",
     "output_type": "stream",
     "text": [
      "dict_keys(['ALLUSERSPROFILE', 'APPDATA', 'CHROME_CRASHPAD_PIPE_NAME', 'COMMONPROGRAMFILES', 'COMMONPROGRAMFILES(X86)', 'COMMONPROGRAMW6432', 'COMPUTERNAME', 'COMSPEC', 'CONDA_DEFAULT_ENV', 'CONDA_EXE', 'CONDA_EXES', 'CONDA_PREFIX', 'CONDA_PROMPT_MODIFIER', 'CONDA_PYTHON_EXE', 'CONDA_ROOT', 'CONDA_SHLVL', 'DRIVERDATA', 'ELECTRON_RUN_AS_NODE', 'HOMEDRIVE', 'HOMEPATH', 'JPY_INTERRUPT_EVENT', 'LOCALAPPDATA', 'LOGONSERVER', 'NUMBER_OF_PROCESSORS', 'ONEDRIVE', 'ONEDRIVECONSUMER', 'ORIGINAL_XDG_CURRENT_DESKTOP', 'OS', 'PATH', 'PATHEXT', 'PROCESSOR_ARCHITECTURE', 'PROCESSOR_IDENTIFIER', 'PROCESSOR_LEVEL', 'PROCESSOR_REVISION', 'PROGRAMDATA', 'PROGRAMFILES', 'PROGRAMFILES(X86)', 'PROGRAMW6432', 'PROMPT', 'PSMODULEPATH', 'PUBLIC', 'PYDEVD_IPYTHON_COMPATIBLE_DEBUGGING', 'PYTHONIOENCODING', 'PYTHONUNBUFFERED', 'PYTHONUTF8', 'PYTHON_FROZEN_MODULES', 'SESSIONNAME', 'SYSTEMDRIVE', 'SYSTEMROOT', 'TEMP', 'TMP', 'USERDOMAIN', 'USERDOMAIN_ROAMINGPROFILE', 'USERNAME', 'USERPROFILE', 'VSCODE_AMD_ENTRYPOINT', 'VSCODE_CODE_CACHE_PATH', 'VSCODE_CRASH_REPORTER_PROCESS_TYPE', 'VSCODE_CWD', 'VSCODE_HANDLES_UNCAUGHT_ERRORS', 'VSCODE_IPC_HOOK', 'VSCODE_L10N_BUNDLE_LOCATION', 'VSCODE_NLS_CONFIG', 'VSCODE_PID', 'WINDIR', 'ZES_ENABLE_SYSMAN', '_CONDA_OLD_CHCP', 'PYDEVD_USE_FRAME_EVAL', 'TERM', 'CLICOLOR', 'FORCE_COLOR', 'CLICOLOR_FORCE', 'PAGER', 'GIT_PAGER', 'MPLBACKEND'])\n"
     ]
    }
   ],
   "source": [
    "print(dict(os.environ).keys())"
   ]
  },
  {
   "cell_type": "code",
   "execution_count": 17,
   "metadata": {},
   "outputs": [],
   "source": [
    "# os 모듈의 다양한 기능 \n",
    "\n",
    "os.chdir(\"G:\\내 드라이브\\파이썬공부\")  # 디렉터리 위치 변경\n"
   ]
  },
  {
   "cell_type": "code",
   "execution_count": 18,
   "metadata": {},
   "outputs": [
    {
     "data": {
      "text/plain": [
       "'g:\\\\내 드라이브\\\\파이썬공부'"
      ]
     },
     "execution_count": 18,
     "metadata": {},
     "output_type": "execute_result"
    }
   ],
   "source": [
    "os.getcwd()   # 디렉터리 위치 돌려받기\n"
   ]
  },
  {
   "cell_type": "code",
   "execution_count": 19,
   "metadata": {},
   "outputs": [
    {
     "data": {
      "text/plain": [
       "0"
      ]
     },
     "execution_count": 19,
     "metadata": {},
     "output_type": "execute_result"
    }
   ],
   "source": [
    "os.system(\"dir\")   # 시스템 자체의 명령어를 파이썬에서 호출. 현재 디렉토리에서 시스템 명령어 dir을 실행하는 예시 \n",
    "                   # CMD 에서 dir 명령하는것과 같은 효과\n",
    "                   # dir은 현재 디렉토리에 있는 모든 디렉토리 및 파일 리스트 반환\n",
    "                   # 대화형 인터프리터 (파이썬 셸) 에서 실행하면 dir 결과를 보여줌.. "
   ]
  },
  {
   "cell_type": "code",
   "execution_count": 20,
   "metadata": {},
   "outputs": [
    {
     "ename": "UnicodeDecodeError",
     "evalue": "'utf-8' codec can't decode byte 0xb5 in position 3: invalid start byte",
     "output_type": "error",
     "traceback": [
      "\u001b[1;31m---------------------------------------------------------------------------\u001b[0m",
      "\u001b[1;31mUnicodeDecodeError\u001b[0m                        Traceback (most recent call last)",
      "Cell \u001b[1;32mIn[20], line 2\u001b[0m\n\u001b[0;32m      1\u001b[0m f \u001b[38;5;241m=\u001b[39m os\u001b[38;5;241m.\u001b[39mpopen(\u001b[38;5;124m\"\u001b[39m\u001b[38;5;124mdir\u001b[39m\u001b[38;5;124m\"\u001b[39m)  \u001b[38;5;66;03m# 실행한 시스템 명령어의 결과값 돌려받기 \u001b[39;00m\n\u001b[1;32m----> 2\u001b[0m \u001b[43mf\u001b[49m\u001b[38;5;241;43m.\u001b[39;49m\u001b[43mread\u001b[49m\u001b[43m(\u001b[49m\u001b[43m)\u001b[49m\n",
      "File \u001b[1;32mc:\\Users\\bmseo\\anaconda3\\lib\\codecs.py:322\u001b[0m, in \u001b[0;36mBufferedIncrementalDecoder.decode\u001b[1;34m(self, input, final)\u001b[0m\n\u001b[0;32m    319\u001b[0m \u001b[38;5;28;01mdef\u001b[39;00m \u001b[38;5;21mdecode\u001b[39m(\u001b[38;5;28mself\u001b[39m, \u001b[38;5;28minput\u001b[39m, final\u001b[38;5;241m=\u001b[39m\u001b[38;5;28;01mFalse\u001b[39;00m):\n\u001b[0;32m    320\u001b[0m     \u001b[38;5;66;03m# decode input (taking the buffer into account)\u001b[39;00m\n\u001b[0;32m    321\u001b[0m     data \u001b[38;5;241m=\u001b[39m \u001b[38;5;28mself\u001b[39m\u001b[38;5;241m.\u001b[39mbuffer \u001b[38;5;241m+\u001b[39m \u001b[38;5;28minput\u001b[39m\n\u001b[1;32m--> 322\u001b[0m     (result, consumed) \u001b[38;5;241m=\u001b[39m \u001b[38;5;28;43mself\u001b[39;49m\u001b[38;5;241;43m.\u001b[39;49m\u001b[43m_buffer_decode\u001b[49m\u001b[43m(\u001b[49m\u001b[43mdata\u001b[49m\u001b[43m,\u001b[49m\u001b[43m \u001b[49m\u001b[38;5;28;43mself\u001b[39;49m\u001b[38;5;241;43m.\u001b[39;49m\u001b[43merrors\u001b[49m\u001b[43m,\u001b[49m\u001b[43m \u001b[49m\u001b[43mfinal\u001b[49m\u001b[43m)\u001b[49m\n\u001b[0;32m    323\u001b[0m     \u001b[38;5;66;03m# keep undecoded input until the next call\u001b[39;00m\n\u001b[0;32m    324\u001b[0m     \u001b[38;5;28mself\u001b[39m\u001b[38;5;241m.\u001b[39mbuffer \u001b[38;5;241m=\u001b[39m data[consumed:]\n",
      "\u001b[1;31mUnicodeDecodeError\u001b[0m: 'utf-8' codec can't decode byte 0xb5 in position 3: invalid start byte"
     ]
    }
   ],
   "source": [
    "f = os.popen(\"dir\")  # 실행한 시스템 명령어의 결과값 돌려받기 \n",
    "f.read()"
   ]
  },
  {
   "cell_type": "code",
   "execution_count": 21,
   "metadata": {},
   "outputs": [
    {
     "name": "stdout",
     "output_type": "stream",
     "text": [
      "(3, 'C:\\\\Users\\\\bmseo\\\\AppData\\\\Local\\\\Temp\\\\tmp36ek5wjk') <class 'tuple'>\n",
      "임시 파일을 mkstemp로 생성함\n"
     ]
    }
   ],
   "source": [
    "# tempfile 로 임시파일 만들기 : mkstemp() 로 만들면 (파일 디스크립터, 경로) 튜플을 반환해서 경로를 이용해 파일을 따로 열어줘야함 \n",
    "\n",
    "import tempfile\n",
    "filename = tempfile.mkstemp()   # 임시파일의 이름을 무작위 생성\n",
    "print(filename, type(filename))\n",
    "path = filename[1]\n",
    "\n",
    "os.close(filename[0])\n",
    "\n",
    "with open(path, 'w') as f1:\n",
    "    f1.write('임시 파일을 mkstemp로 생성함')\n",
    "\n",
    "with open(path, 'r') as f1:\n",
    "    print(f1.read())\n",
    "\n",
    "os.remove(path)\n"
   ]
  },
  {
   "cell_type": "code",
   "execution_count": 22,
   "metadata": {},
   "outputs": [
    {
     "name": "stdout",
     "output_type": "stream",
     "text": [
      "b'Hello, World!'\n"
     ]
    }
   ],
   "source": [
    "# tempfile.Temporaryfile() 은 파일 객체자체를 만들어줌. (이 파일은 기본적으로 wb 모드) open할 필요없이 열린 상태로 생성함\n",
    "\n",
    "f = tempfile.TemporaryFile()  \n",
    "f.write(b'Hello, World!')\n",
    "f.seek(0)\n",
    "print(f.read())\n",
    "f.close()  # close 호출하면 이 파일 삭제 됨"
   ]
  },
  {
   "cell_type": "code",
   "execution_count": 23,
   "metadata": {},
   "outputs": [
    {
     "name": "stdout",
     "output_type": "stream",
     "text": [
      "오류가 발생했습니다.\n",
      "Traceback (most recent call last):\n",
      "  File \"C:\\Users\\bmseo\\AppData\\Local\\Temp\\ipykernel_23624\\2977331063.py\", line 11, in main\n",
      "    b()\n",
      "  File \"C:\\Users\\bmseo\\AppData\\Local\\Temp\\ipykernel_23624\\2977331063.py\", line 8, in b\n",
      "    a()\n",
      "  File \"C:\\Users\\bmseo\\AppData\\Local\\Temp\\ipykernel_23624\\2977331063.py\", line 6, in a\n",
      "    1/0\n",
      "ZeroDivisionError: division by zero\n",
      "\n"
     ]
    }
   ],
   "source": [
    "# traceback : 프로그램 실행 중 발생한 오류를 추적하기위해 사용하는 모듈 \n",
    "\n",
    "import traceback\n",
    "\n",
    "def a():\n",
    "    1/0 \n",
    "def b():\n",
    "    a()\n",
    "def main():\n",
    "    try:\n",
    "        b()\n",
    "    except:\n",
    "        print(\"오류가 발생했습니다.\")\n",
    "        print(traceback.format_exc()) # 오류추적 문자를 문자로 반환하는 함수 \n",
    "\n",
    "main()"
   ]
  },
  {
   "cell_type": "code",
   "execution_count": 24,
   "metadata": {},
   "outputs": [
    {
     "name": "stdout",
     "output_type": "stream",
     "text": [
      "{'name': 'song', 'birth': '1026', 'age': 32} <class 'dict'>\n"
     ]
    }
   ],
   "source": [
    "# json : JSON 데이터를 쉽게 처리하고자 사용하는 모듈\n",
    "# 피클과 마찬가지로, load를 통해 json파일로 부터 딕셔너리로 가져올 수 있고, dump를 통해 json파일에 딕셔너리 저장가능 \n",
    "\n",
    "import json\n",
    "\n",
    "with open('G:/내 드라이브/파이썬공부/모듈모음/myinfo.json') as f:\n",
    "    data = json.load(f)   # JSON 파일을 읽어 → 딕셔너리로 변환 \n",
    "\n",
    "print(data, type(data))\n",
    "\n",
    "# 반댕로 딕셔너리 자료형을 → JSON 파일로 생성\n",
    "dict = {'name': 'jung', 'birth': '4250', 'age': 62}\n",
    "\n",
    "with open('G:/내 드라이브/파이썬공부/모듈모음/mominfo.json', 'w') as f:\n",
    "    json.dump(dict, f)"
   ]
  },
  {
   "cell_type": "code",
   "execution_count": 25,
   "metadata": {},
   "outputs": [
    {
     "name": "stdout",
     "output_type": "stream",
     "text": [
      "{\n",
      "  \"name\": \"송\",\n",
      "  \"birth\": \"931026\",\n",
      "  \"age\": 32\n",
      "} <class 'str'>\n",
      "{'name': '송', 'birth': '931026', 'age': 32} <class 'dict'>\n",
      "[1, 2, 3] <class 'str'>\n"
     ]
    }
   ],
   "source": [
    "# 자료형을 JSON 문자열로 바꾸기 : json.dumps ↔ 반대는 json.loads\n",
    "\n",
    "dict = {'name': '송', 'birth': '931026', 'age': 32}\n",
    "\n",
    "json_data = json.dumps(dict, indent=2, ensure_ascii=False) # ensure_ascii 는 유니코드가 아스키로 변하는것 방지 \n",
    "print(json_data, type(json_data))\n",
    "\n",
    "dict_back = json.loads(json_data)\n",
    "print(dict_back, type(dict_back))\n",
    "\n",
    "# 리스트, 튜플 등도 JSON 문자열로 변경 가능\n",
    "print(json.dumps([1,2,3]), type(json.dumps([1,2,3])))"
   ]
  },
  {
   "cell_type": "code",
   "execution_count": null,
   "metadata": {},
   "outputs": [],
   "source": [
    "# urllib : URL 을 읽고 분석하는 모듈. \n",
    "\n",
    "import urllib.request\n",
    "\n",
    "# https://wikidocs.net/{page} 웹 페이지를 스크래핑해서 wikidocs_{page}.html 라는 파일로 저장 \n",
    "\n",
    "def get_wikidocs(page):\n",
    "    resource = f'https://wikidocs.net/{page}'\n",
    "    with urllib.request.urlopen(resource) as s:  # s라는 객체를 생성\n",
    "        with open(f'wikidocs_{page}.html', 'wb') as f:\n",
    "            f.write(s.read())\n",
    "\n",
    "get_wikidocs(12)"
   ]
  },
  {
   "cell_type": "code",
   "execution_count": null,
   "metadata": {},
   "outputs": [
    {
     "data": {
      "text/plain": [
       "True"
      ]
     },
     "execution_count": 28,
     "metadata": {},
     "output_type": "execute_result"
    }
   ],
   "source": [
    "# webbrowser : 파이썬 프로그램에서 시스템 브라우저를 호출할 때 사용하는 모듈 \n",
    "\n",
    "import webbrowser\n",
    "\n",
    "webbrowser.open_new('http://python.org')\n",
    "webbrowser.open('http://python.org')  # 이미 열린 브라우저에서 열기 "
   ]
  }
 ],
 "metadata": {
  "kernelspec": {
   "display_name": "Python 3",
   "language": "python",
   "name": "python3"
  },
  "language_info": {
   "codemirror_mode": {
    "name": "ipython",
    "version": 3
   },
   "file_extension": ".py",
   "mimetype": "text/x-python",
   "name": "python",
   "nbconvert_exporter": "python",
   "pygments_lexer": "ipython3",
   "version": "3.10.9"
  }
 },
 "nbformat": 4,
 "nbformat_minor": 2
}
