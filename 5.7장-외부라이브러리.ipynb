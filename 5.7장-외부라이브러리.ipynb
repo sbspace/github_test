{
 "cells": [
  {
   "cell_type": "markdown",
   "metadata": {},
   "source": [
    "외부 라이브러리는 pip를 통해 설치가 필요한 라이브러리들 "
   ]
  },
  {
   "cell_type": "code",
   "execution_count": 2,
   "metadata": {},
   "outputs": [
    {
     "ename": "ModuleNotFoundError",
     "evalue": "No module named 'faker'",
     "output_type": "error",
     "traceback": [
      "\u001b[1;31m---------------------------------------------------------------------------\u001b[0m",
      "\u001b[1;31mModuleNotFoundError\u001b[0m                       Traceback (most recent call last)",
      "Cell \u001b[1;32mIn[2], line 3\u001b[0m\n\u001b[0;32m      1\u001b[0m \u001b[38;5;66;03m# Faker : 테스트용 가짜 데이터 생성\u001b[39;00m\n\u001b[1;32m----> 3\u001b[0m \u001b[38;5;28;01mfrom\u001b[39;00m \u001b[38;5;21;01mfaker\u001b[39;00m \u001b[38;5;28;01mimport\u001b[39;00m Faker\n\u001b[0;32m      4\u001b[0m fake \u001b[38;5;241m=\u001b[39m Faker()\n\u001b[0;32m      5\u001b[0m fake_korean \u001b[38;5;241m=\u001b[39m Faker(\u001b[38;5;124m'\u001b[39m\u001b[38;5;124mko-KR\u001b[39m\u001b[38;5;124m'\u001b[39m)\n",
      "\u001b[1;31mModuleNotFoundError\u001b[0m: No module named 'faker'"
     ]
    }
   ],
   "source": [
    "# Faker : 테스트용 가짜 데이터 생성\n",
    "\n",
    "from faker import Faker\n",
    "fake = Faker()\n",
    "fake_korean = Faker('ko-KR')\n",
    "\n",
    "print(fake.name(), fake.address(), fake_korean.name(), fake_korean.address(), sep='\\n\\n')\n",
    "\n",
    "'''Faker 에는 name,address 외에도 postcode, country, company, job 등등의 함수들도 있다.'''\n"
   ]
  },
  {
   "cell_type": "code",
   "execution_count": null,
   "metadata": {},
   "outputs": [
    {
     "name": "stdout",
     "output_type": "stream",
     "text": [
      "[('강하윤', '제주특별자치도 화천군 강남대691가 (승현최김읍)'), ('김서현', '울산광역시 용산구 양재천길'), ('양준혁', '세종특별자치시 중랑구 잠실가'), ('김영수', '충청북도 성남시 중원구 언주26거리'), ('백지후', '전라남도 용인시 기흥구 서초대거리'), ('노예지', '울산광역시 동작구 봉은사로'), ('박서준', '경상북도 김포시 잠실길 (영희박동)'), ('김은경', '강원도 안산시 상록구 논현로'), ('김영길', '제주특별자치도 충주시 오금가'), ('백현정', '충청남도 태안군 테헤란440로'), ('김지원', '전라남도 안양시 만안구 테헤란로 (주원김송리)'), ('하민지', '대구광역시 송파구 석촌호수14로'), ('김예원', '강원도 수원시 권선구 논현5거리'), ('박정남', '전라남도 수원시 권선구 압구정09가'), ('박우진', '부산광역시 노원구 강남대길'), ('박지훈', '전라북도 서천군 영동대1거리'), ('고정숙', '경상북도 청주시 상당구 잠실가 (민재송최리)'), ('이정호', '전라남도 군포시 서초대3거리 (유진이면)'), ('김상현', '울산광역시 강북구 서초중앙17거리 (지혜차읍)'), ('박지후', '광주광역시 강남구 압구정로 (은영김리)'), ('김성호', '충청북도 정선군 양재천길'), ('황상철', '부산광역시 은평구 삼성48가'), ('양영환', '제주특별자치도 파주시 삼성39거리'), ('오상호', '대전광역시 광진구 강남대418로 (주원손이면)'), ('김은주', '울산광역시 중랑구 서초중앙거리 (윤서이안동)'), ('김영일', '전라북도 고양시 일산서구 압구정95길 (준호최김마을)'), ('이정수', '경기도 논산시 논현거리'), ('한정웅', '경기도 파주시 학동61길'), ('이지후', '세종특별자치시 동대문구 반포대5로'), ('이영일', '울산광역시 성북구 강남대249길')]\n",
      "30\n",
      "('이영일', '울산광역시 성북구 강남대249길')\n"
     ]
    }
   ],
   "source": [
    "# (이름,주소) 30개 가짜 데이터 만들기 \n",
    "\n",
    "fake = Faker('ko-KR')\n",
    "\n",
    "fake_data = [(fake.name(), fake.address()) for i in range(30)]\n",
    "print(fake_data, len(fake_data), fake_data[len(fake_data)-1], sep='\\n')"
   ]
  },
  {
   "cell_type": "code",
   "execution_count": 4,
   "metadata": {},
   "outputs": [
    {
     "name": "stdout",
     "output_type": "stream",
     "text": [
      "x y Z <class 'sympy.core.symbol.Symbol'> <class 'sympy.core.symbol.Symbol'> <class 'sympy.core.symbol.Symbol'>\n"
     ]
    }
   ],
   "source": [
    "# sympy : 방정식 기호를 사용하게 해주는 라이브러리, 문제를 풀기 위해 연습장이 필요할떄 ... \n",
    "\n",
    "from fractions import Fraction\n",
    "import sympy \n",
    "\n",
    "x = sympy.symbols('x')\n",
    "y,z = sympy.symbols('y Z')\n",
    "print(x,y,z, type(x), type(y), type(z))"
   ]
  },
  {
   "cell_type": "code",
   "execution_count": 7,
   "metadata": {},
   "outputs": [
    {
     "name": "stdout",
     "output_type": "stream",
     "text": [
      "Eq(2*x/5, 1760)\n",
      "[4400]\n",
      "잔액은 2640원 입니다\n"
     ]
    }
   ],
   "source": [
    "# 서윤이가 가진 돈의 2/5 으로 물건을 샀고, 그 금액이 1760원 일때, 서윤이가 가진 잔액은?\n",
    "\n",
    "f = sympy.Eq(x*Fraction('2/5'), 1760)  # equation 방정식\n",
    "                                       # Fraction 은 유리수를 만듬 : Fraction(분자,분모) or Fraction('분자/분모') \n",
    "print(f) # f 라는 방정식을 만든것 \n",
    "\n",
    "result = sympy.solve(f)  # 방정식을 푸는 방법\n",
    "print(result)   # 방정식의 해는 여러개일 수 있어서 결과값은 리스트 형식으로 반환된다. \n",
    "remain = result[0] - 1760\n",
    "print(f'잔액은 {remain}원 입니다')"
   ]
  },
  {
   "cell_type": "code",
   "execution_count": 11,
   "metadata": {},
   "outputs": [
    {
     "data": {
      "text/plain": [
       "[-1, 1]"
      ]
     },
     "execution_count": 11,
     "metadata": {},
     "output_type": "execute_result"
    }
   ],
   "source": [
    "# 방정식 예시 - 1\n",
    "f = sympy.Eq(x**2,1)\n",
    "sympy.solve(f)  # 해가 2개"
   ]
  },
  {
   "cell_type": "code",
   "execution_count": 12,
   "metadata": {},
   "outputs": [
    {
     "data": {
      "text/plain": [
       "{Z: 3, y: 7}"
      ]
     },
     "execution_count": 12,
     "metadata": {},
     "output_type": "execute_result"
    }
   ],
   "source": [
    "# 방정식 예시 - 2 : 연립방정식 \n",
    "f1 = sympy.Eq(y+z,10)\n",
    "f2 = sympy.Eq(y-z,4)\n",
    "sympy.solve([f1,f2])"
   ]
  }
 ],
 "metadata": {
  "kernelspec": {
   "display_name": "Python 3",
   "language": "python",
   "name": "python3"
  },
  "language_info": {
   "codemirror_mode": {
    "name": "ipython",
    "version": 3
   },
   "file_extension": ".py",
   "mimetype": "text/x-python",
   "name": "python",
   "nbconvert_exporter": "python",
   "pygments_lexer": "ipython3",
   "version": "3.10.9"
  }
 },
 "nbformat": 4,
 "nbformat_minor": 2
}
